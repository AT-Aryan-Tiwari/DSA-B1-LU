{
 "cells": [
  {
   "cell_type": "markdown",
   "metadata": {},
   "source": [
    "# Aryan Tiwari"
   ]
  },
  {
   "cell_type": "markdown",
   "metadata": {},
   "source": [
    "## Q1"
   ]
  },
  {
   "cell_type": "raw",
   "metadata": {},
   "source": [
    "Sorting Algorithms:\n",
    "\n",
    "i) Bubble Sort Algorithm\n",
    "Best Case = Ω(n); Worst Case = Average Case time complexity = O(n^2)\n",
    "\n",
    "ii) Insertion Sort Algorithm\n",
    "Best Case = Ω(n); Worst Case = Average Case time complexity = O(n^2)\n",
    "\n",
    "iii) Selection Sort Algorithm\n",
    "Best Case = Worst Case = Average Case time complexity = O(n^2)\n",
    "\n",
    "iv) Merge Sort Algorithm\n",
    "Best Case = Ω(n*log(n)); Worst Case = O(n*log(n)); Average Case = θ(n*log(n))\n",
    "\n",
    "iv) Quick Sort Algorithm\n",
    "Best Case = Ω(n*log(n)); Worst Case = O(n^2); Average Case = θ(n*log(n))"
   ]
  },
  {
   "cell_type": "markdown",
   "metadata": {},
   "source": [
    "## Q2"
   ]
  },
  {
   "cell_type": "code",
   "execution_count": 1,
   "metadata": {},
   "outputs": [
    {
     "name": "stdout",
     "output_type": "stream",
     "text": [
      "[30, 90, 50, 10, 70]\n",
      "[10, 30, 50, 70, 90]\n"
     ]
    }
   ],
   "source": [
    "def selsort(l):\n",
    "    for i in range(0,len(l)-1):\n",
    "        pos=i\n",
    "        for j in range(i+1,len(l)):\n",
    "            if l[pos]>l[j]:\n",
    "                pos=j\n",
    "        l[pos],l[i]=l[i],l[pos]\n",
    "arr=[30,90,50,10,70]\n",
    "print(arr)\n",
    "selsort(arr)\n",
    "print(arr)"
   ]
  },
  {
   "cell_type": "markdown",
   "metadata": {},
   "source": [
    "## Q3"
   ]
  },
  {
   "cell_type": "code",
   "execution_count": 8,
   "metadata": {},
   "outputs": [
    {
     "name": "stdout",
     "output_type": "stream",
     "text": [
      "Enter values: 10 20 50 30\n",
      "[10, 20, 50, 30]\n",
      "30 Popped out.\n",
      "[10, 20, 50]\n"
     ]
    }
   ],
   "source": [
    "def pop():\n",
    "    global l,top\n",
    "    if top==-1:\n",
    "        print(\"Underflow\")\n",
    "        return\n",
    "    x=l.pop()\n",
    "    print(x,\"Popped out.\")\n",
    "    top-=1\n",
    "l=[int(i) for i in input(\"Enter values: \").split()]\n",
    "top=len(l)-1\n",
    "print(l)\n",
    "pop()\n",
    "print(l)"
   ]
  },
  {
   "cell_type": "markdown",
   "metadata": {},
   "source": [
    "## Q4"
   ]
  },
  {
   "cell_type": "code",
   "execution_count": 11,
   "metadata": {},
   "outputs": [
    {
     "name": "stdout",
     "output_type": "stream",
     "text": [
      "Enter values: 10 20 3 40\n",
      "[10, 20, 3, 40]\n",
      "[20, 3, 40]\n"
     ]
    }
   ],
   "source": [
    "def dequeue():\n",
    "    global l,f,r\n",
    "    if f==-1:\n",
    "        print(\"Underflow\")\n",
    "        return\n",
    "    if r==f:\n",
    "        l.pop(f)\n",
    "        r=f=-1\n",
    "        return\n",
    "    l.pop(f)\n",
    "    f+=1\n",
    "\n",
    "f=r=-1\n",
    "l=[int(i) for i in input(\"Enter values: \").split()]\n",
    "if len(l)>0:\n",
    "    f=0\n",
    "    r=len(l)-1\n",
    "print(l)\n",
    "dequeue()\n",
    "print(l)\n"
   ]
  },
  {
   "cell_type": "code",
   "execution_count": null,
   "metadata": {},
   "outputs": [],
   "source": []
  }
 ],
 "metadata": {
  "kernelspec": {
   "display_name": "Python 3",
   "language": "python",
   "name": "python3"
  },
  "language_info": {
   "codemirror_mode": {
    "name": "ipython",
    "version": 3
   },
   "file_extension": ".py",
   "mimetype": "text/x-python",
   "name": "python",
   "nbconvert_exporter": "python",
   "pygments_lexer": "ipython3",
   "version": "3.7.3"
  }
 },
 "nbformat": 4,
 "nbformat_minor": 2
}
