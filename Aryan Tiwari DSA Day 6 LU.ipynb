{
 "cells": [
  {
   "cell_type": "markdown",
   "metadata": {},
   "source": [
    "# Aryan Tiwari"
   ]
  },
  {
   "cell_type": "markdown",
   "metadata": {},
   "source": [
    "## Q1"
   ]
  },
  {
   "cell_type": "code",
   "execution_count": 7,
   "metadata": {},
   "outputs": [
    {
     "name": "stdout",
     "output_type": "stream",
     "text": [
      "Enter values: 1547 10 10 10\n",
      "1547000\n"
     ]
    }
   ],
   "source": [
    "l=[int(i) for i in input(\"Enter values: \").split()]\n",
    "count=0\n",
    "num=1\n",
    "for i in l:\n",
    "    if i%10!=0:\n",
    "        num=num*i\n",
    "    else:\n",
    "        n=i\n",
    "        while n//10>0:\n",
    "            count+=1\n",
    "            n=n//10\n",
    "print(num,end='')\n",
    "while count>0:\n",
    "    print('0',end='')\n",
    "    count-=1\n",
    "print()"
   ]
  },
  {
   "cell_type": "markdown",
   "metadata": {},
   "source": [
    "## Q2"
   ]
  },
  {
   "cell_type": "code",
   "execution_count": 18,
   "metadata": {},
   "outputs": [
    {
     "name": "stdout",
     "output_type": "stream",
     "text": [
      "5\n",
      "6\n",
      "30\n",
      "9\n",
      "20\n",
      "10\n",
      "Smallest element is:  5\n",
      "\n",
      "6\n",
      "30\n",
      "9\n",
      "20\n",
      "10\n",
      "Smallest element is:  6\n",
      "\n"
     ]
    }
   ],
   "source": [
    "def push(n):\n",
    "    global m,l,top\n",
    "    if len(l)==len(m)==0:\n",
    "        l.append(n)\n",
    "        m.append(n)\n",
    "        top+=1\n",
    "    elif n<m[top]:\n",
    "        l.append(n)\n",
    "        m.append(n)\n",
    "        top+=1\n",
    "    else:\n",
    "        l.append(n)\n",
    "        m.append(m[top])\n",
    "        top+=1\n",
    "\n",
    "def pop():\n",
    "    global m,l,top\n",
    "    if top==-1:\n",
    "        print(\"Underflow\")\n",
    "        return\n",
    "    l.pop()\n",
    "    m.pop()\n",
    "    top-=1\n",
    "\n",
    "def display():\n",
    "    global l,m,top\n",
    "    for i in range(len(l)-1,-1,-1):\n",
    "        print(l[i])\n",
    "    print(\"Smallest element is: \",m[top])\n",
    "    print()\n",
    "   \n",
    "m=[]\n",
    "l=[]\n",
    "top=-1\n",
    "push(10)\n",
    "push(20)\n",
    "push(9)\n",
    "push(30)\n",
    "push(6)\n",
    "push(5)\n",
    "display()\n",
    "pop()\n",
    "display()"
   ]
  },
  {
   "cell_type": "code",
   "execution_count": null,
   "metadata": {},
   "outputs": [],
   "source": []
  }
 ],
 "metadata": {
  "kernelspec": {
   "display_name": "Python 3",
   "language": "python",
   "name": "python3"
  },
  "language_info": {
   "codemirror_mode": {
    "name": "ipython",
    "version": 3
   },
   "file_extension": ".py",
   "mimetype": "text/x-python",
   "name": "python",
   "nbconvert_exporter": "python",
   "pygments_lexer": "ipython3",
   "version": "3.7.3"
  }
 },
 "nbformat": 4,
 "nbformat_minor": 2
}
