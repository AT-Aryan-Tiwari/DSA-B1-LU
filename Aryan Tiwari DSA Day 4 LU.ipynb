{
 "cells": [
  {
   "cell_type": "markdown",
   "metadata": {},
   "source": [
    "# Aryan Tiwari"
   ]
  },
  {
   "cell_type": "markdown",
   "metadata": {},
   "source": [
    "## Q1"
   ]
  },
  {
   "cell_type": "code",
   "execution_count": 7,
   "metadata": {},
   "outputs": [
    {
     "name": "stdout",
     "output_type": "stream",
     "text": [
      "30 20 10 \n",
      "30 20 "
     ]
    }
   ],
   "source": [
    "class Node:\n",
    "    def __init__(self,data):\n",
    "        self.data=data\n",
    "        self.next=None\n",
    "\n",
    "class LinkedList:\n",
    "    def __init__(self):\n",
    "        self.head=None\n",
    "        \n",
    "    def insertBeg(self,data):\n",
    "        new=Node(data)\n",
    "        if self.head==None:\n",
    "            self.head=new\n",
    "            return\n",
    "        a=self.head\n",
    "        self.head=new\n",
    "        new.next=a\n",
    "    \n",
    "    def delend(self):\n",
    "        if self.head==None:\n",
    "            print(\"Underflow.\")\n",
    "            return\n",
    "        temp=self.head\n",
    "        while (temp.next).next!=None:\n",
    "            temp=temp.next\n",
    "        temp.next=None\n",
    "        \n",
    "    def display(self):\n",
    "        if self.head==None:\n",
    "            print(\"Nothing to display.\")\n",
    "            return\n",
    "        temp=self.head\n",
    "        while temp!=None:\n",
    "            print(temp.data,end=\" \")\n",
    "            temp=temp.next\n",
    "\n",
    "li=LinkedList()\n",
    "li.insertBeg(10)\n",
    "li.insertBeg(20)\n",
    "li.insertBeg(30)\n",
    "li.display()\n",
    "print()\n",
    "li.delend()\n",
    "li.display()\n"
   ]
  },
  {
   "cell_type": "markdown",
   "metadata": {},
   "source": [
    "## Q2"
   ]
  },
  {
   "cell_type": "code",
   "execution_count": 2,
   "metadata": {},
   "outputs": [
    {
     "name": "stdout",
     "output_type": "stream",
     "text": [
      "-1\n"
     ]
    }
   ],
   "source": [
    "def binary_search(arr, x): \n",
    "    start = 0\n",
    "    end = len(arr) - 1\n",
    "    mid = 0\n",
    "  \n",
    "    while start <= end: \n",
    "        mid = (start + end) // 2\n",
    "        if arr[mid] < x: \n",
    "            start = mid + 1\n",
    "        elif arr[mid] > x: \n",
    "            end = mid - 1\n",
    "        else: \n",
    "            return mid \n",
    "    return -1\n",
    "\n",
    "arr=[10,20,30,40,50,60,70]\n",
    "index=binary_search(arr,45)\n",
    "print(index)"
   ]
  },
  {
   "cell_type": "markdown",
   "metadata": {},
   "source": [
    "## Q3"
   ]
  },
  {
   "cell_type": "code",
   "execution_count": 14,
   "metadata": {},
   "outputs": [
    {
     "name": "stdout",
     "output_type": "stream",
     "text": [
      "10 20 30 40 50 \n",
      "30\n"
     ]
    }
   ],
   "source": [
    "class Node:\n",
    "    def __init__(self,data):\n",
    "        self.data=data\n",
    "        self.next=None\n",
    "\n",
    "class LinkedList:\n",
    "    def __init__(self):\n",
    "        self.head=None\n",
    "        \n",
    "    def insertEnd(self,data):\n",
    "        new=Node(data)\n",
    "        if self.head==None:\n",
    "            self.head=new\n",
    "            return\n",
    "        temp=self.head\n",
    "        while temp.next!=None:\n",
    "            temp=temp.next\n",
    "        temp.next=new\n",
    "        \n",
    "    def display(self):\n",
    "        if self.head==None:\n",
    "            print(\"Nothing to display.\")\n",
    "            return\n",
    "        temp=self.head\n",
    "        while temp!=None:\n",
    "            print(temp.data,end=\" \")\n",
    "            temp=temp.next\n",
    "    \n",
    "    def midelem(self):\n",
    "        temp=self.head\n",
    "        count=0\n",
    "        while temp.next!=None:\n",
    "            temp=temp.next\n",
    "            count+=1\n",
    "        temp=self.head\n",
    "        mid=count//2\n",
    "        while mid>0:\n",
    "            temp=temp.next\n",
    "            mid-=1\n",
    "        return temp.data\n",
    "\n",
    "l=LinkedList()\n",
    "l.insertEnd(10)\n",
    "l.insertEnd(20)\n",
    "l.insertEnd(30)\n",
    "l.insertEnd(40)\n",
    "l.insertEnd(50)\n",
    "l.display()\n",
    "print()\n",
    "print(l.midelem())"
   ]
  },
  {
   "cell_type": "code",
   "execution_count": null,
   "metadata": {},
   "outputs": [],
   "source": []
  }
 ],
 "metadata": {
  "kernelspec": {
   "display_name": "Python 3",
   "language": "python",
   "name": "python3"
  },
  "language_info": {
   "codemirror_mode": {
    "name": "ipython",
    "version": 3
   },
   "file_extension": ".py",
   "mimetype": "text/x-python",
   "name": "python",
   "nbconvert_exporter": "python",
   "pygments_lexer": "ipython3",
   "version": "3.7.3"
  }
 },
 "nbformat": 4,
 "nbformat_minor": 2
}
