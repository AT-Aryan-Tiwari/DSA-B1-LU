{
 "cells": [
  {
   "cell_type": "markdown",
   "metadata": {},
   "source": [
    "# Aryan Tiwari"
   ]
  },
  {
   "cell_type": "markdown",
   "metadata": {},
   "source": [
    "# Q1"
   ]
  },
  {
   "cell_type": "markdown",
   "metadata": {},
   "source": [
    "int a = 0, b = 0; -> Time required = C1 (A Constant)\n",
    "for (i = 0; i < N; i++) \n",
    "{ \n",
    "a = a + 1;  -> Time required for the loop = n * C2 (Where C2 is a constant)\n",
    "}\n",
    "for (j = 0; j < M; j++) \n",
    "{\n",
    "b = b + j; -> Time required for the loop = root(m) * C3 (Where C3 is a constant)\n",
    "}\n",
    "\n",
    "For Time Complexity:\n",
    "Time for entire code = C1+(n * C2)+(root (m) * C3)\n",
    "Ignoring constants,\n",
    "Time for entire code = n+root(m)\n",
    "Using Big O notation (Worst Case Time Complexity),\n",
    "Ans: T(n)=O(n)\n",
    "\n",
    "For Space Complexity:\n",
    "Space Complexity = 2, as other than a and b (the original variables), two other variables i and j need to be created for the code to be executed."
   ]
  },
  {
   "cell_type": "markdown",
   "metadata": {},
   "source": [
    "# Q2"
   ]
  },
  {
   "cell_type": "markdown",
   "metadata": {},
   "source": [
    "Ans: a)X will be a better choice for all inputs"
   ]
  }
 ],
 "metadata": {
  "kernelspec": {
   "display_name": "Python 3",
   "language": "python",
   "name": "python3"
  },
  "language_info": {
   "codemirror_mode": {
    "name": "ipython",
    "version": 3
   },
   "file_extension": ".py",
   "mimetype": "text/x-python",
   "name": "python",
   "nbconvert_exporter": "python",
   "pygments_lexer": "ipython3",
   "version": "3.7.3"
  }
 },
 "nbformat": 4,
 "nbformat_minor": 2
}
