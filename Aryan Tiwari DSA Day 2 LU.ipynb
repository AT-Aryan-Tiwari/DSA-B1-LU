{
 "cells": [
  {
   "cell_type": "markdown",
   "metadata": {},
   "source": [
    "# Aryan Tiwari"
   ]
  },
  {
   "cell_type": "markdown",
   "metadata": {},
   "source": [
    "# Q1"
   ]
  },
  {
   "cell_type": "code",
   "execution_count": 6,
   "metadata": {},
   "outputs": [
    {
     "name": "stdout",
     "output_type": "stream",
     "text": [
      "Enter the number of elements of the list: 5\n",
      "Enter the element: 1\n",
      "Enter the element: 2\n",
      "Enter the element: 3\n",
      "Enter the element: 4\n",
      "Enter the element: 5\n",
      "List:  [1, 2, 3, 4, 5]\n",
      "New list:  [2, 4]\n"
     ]
    }
   ],
   "source": [
    "l=[]\n",
    "n=int(input(\"Enter the number of elements of the list: \"))\n",
    "for i in range(n):\n",
    "    a=int(input(\"Enter the element: \"))\n",
    "    l.append(a)\n",
    "print(\"List: \",l)\n",
    "l1=[]\n",
    "for i in range(n):\n",
    "    if l[i]%2==0:\n",
    "        l1.append(l[i])\n",
    "print(\"New list: \",l1)"
   ]
  },
  {
   "cell_type": "markdown",
   "metadata": {},
   "source": [
    "# Q2"
   ]
  },
  {
   "cell_type": "code",
   "execution_count": 8,
   "metadata": {},
   "outputs": [
    {
     "name": "stdout",
     "output_type": "stream",
     "text": [
      "      1\n",
      "     22\n",
      "    333\n",
      "   4444\n",
      "  55555\n"
     ]
    }
   ],
   "source": [
    "for i in range(1,6):\n",
    "    print(\" \"*(6-i),str(i)*i)"
   ]
  },
  {
   "cell_type": "code",
   "execution_count": null,
   "metadata": {},
   "outputs": [],
   "source": []
  }
 ],
 "metadata": {
  "kernelspec": {
   "display_name": "Python 3",
   "language": "python",
   "name": "python3"
  },
  "language_info": {
   "codemirror_mode": {
    "name": "ipython",
    "version": 3
   },
   "file_extension": ".py",
   "mimetype": "text/x-python",
   "name": "python",
   "nbconvert_exporter": "python",
   "pygments_lexer": "ipython3",
   "version": "3.7.3"
  }
 },
 "nbformat": 4,
 "nbformat_minor": 2
}
